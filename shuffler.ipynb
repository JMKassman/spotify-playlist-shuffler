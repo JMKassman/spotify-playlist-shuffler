{
 "cells": [
  {
   "cell_type": "markdown",
   "metadata": {},
   "source": [
    "# Setup"
   ]
  },
  {
   "cell_type": "code",
   "execution_count": 1,
   "metadata": {},
   "outputs": [],
   "source": [
    "import random\n",
    "\n",
    "import pandas as pd\n",
    "import spotipy\n",
    "from dotenv import load_dotenv\n",
    "from spotipy.oauth2 import SpotifyOAuth\n",
    "from tqdm.notebook import tqdm"
   ]
  },
  {
   "cell_type": "code",
   "execution_count": null,
   "metadata": {},
   "outputs": [],
   "source": [
    "load_dotenv()"
   ]
  },
  {
   "cell_type": "code",
   "execution_count": 31,
   "metadata": {},
   "outputs": [],
   "source": [
    "scope = \"user-library-read,playlist-modify-public\"\n",
    "\n",
    "sp = spotipy.Spotify(auth_manager=SpotifyOAuth(scope=scope))"
   ]
  },
  {
   "cell_type": "code",
   "execution_count": 4,
   "metadata": {},
   "outputs": [],
   "source": [
    "playlists = sp.current_user_playlists()[\"items\"]"
   ]
  },
  {
   "cell_type": "code",
   "execution_count": null,
   "metadata": {},
   "outputs": [],
   "source": [
    "playlist_uris = {playlist[\"name\"]: playlist[\"uri\"] for playlist in playlists}\n",
    "playlist_uris"
   ]
  },
  {
   "cell_type": "code",
   "execution_count": 6,
   "metadata": {},
   "outputs": [],
   "source": [
    "driving = playlist_uris[\"Driving\"]\n",
    "test = playlist_uris[\"test\"]"
   ]
  },
  {
   "cell_type": "markdown",
   "metadata": {},
   "source": [
    "# Alphabetize"
   ]
  },
  {
   "cell_type": "code",
   "execution_count": 23,
   "metadata": {},
   "outputs": [],
   "source": [
    "number_of_songs = sp.playlist_items(driving, limit=1)[\"total\"]"
   ]
  },
  {
   "cell_type": "code",
   "execution_count": null,
   "metadata": {},
   "outputs": [],
   "source": [
    "offsets = range(0, number_of_songs, 100)"
   ]
  },
  {
   "cell_type": "code",
   "execution_count": null,
   "metadata": {},
   "outputs": [],
   "source": [
    "all_tracks = []\n",
    "for offset in tqdm(offsets):\n",
    "    all_tracks.extend(\n",
    "        sp.playlist_items(\n",
    "            driving, fields=[\"items(track(name,artists(name)))\"], offset=offset\n",
    "        )[\"items\"]\n",
    "    )"
   ]
  },
  {
   "cell_type": "code",
   "execution_count": null,
   "metadata": {},
   "outputs": [],
   "source": [
    "len(all_tracks)"
   ]
  },
  {
   "cell_type": "code",
   "execution_count": 25,
   "metadata": {},
   "outputs": [],
   "source": [
    "clean_all_tracks = []\n",
    "for track in all_tracks:\n",
    "    track = track[\"track\"]\n",
    "    name = track[\"name\"]\n",
    "    artists = \", \".join([artist[\"name\"] for artist in track[\"artists\"]])\n",
    "    clean_all_tracks.append((name, artists))"
   ]
  },
  {
   "cell_type": "code",
   "execution_count": 26,
   "metadata": {},
   "outputs": [],
   "source": [
    "songs_df = (\n",
    "    pd.DataFrame(clean_all_tracks, columns=[\"name\", \"artists\"])\n",
    "    .reset_index()\n",
    "    .sort_values(\"name\", ascending=True)\n",
    ")"
   ]
  },
  {
   "cell_type": "code",
   "execution_count": 19,
   "metadata": {},
   "outputs": [],
   "source": [
    "ordered_song_order = list(songs_df[\"index\"])"
   ]
  },
  {
   "cell_type": "code",
   "execution_count": null,
   "metadata": {},
   "outputs": [],
   "source": [
    "with tqdm(total=len(ordered_song_order)) as t:\n",
    "    while len(ordered_song_order) > 0:\n",
    "        song_to_move = ordered_song_order.pop()\n",
    "\n",
    "        for i, value in enumerate(ordered_song_order):\n",
    "            if value < song_to_move:\n",
    "                ordered_song_order[i] += 1\n",
    "\n",
    "        sp.playlist_reorder_items(driving, song_to_move, 0)\n",
    "        t.update()"
   ]
  },
  {
   "cell_type": "code",
   "execution_count": null,
   "metadata": {},
   "outputs": [],
   "source": [
    "songs_df[songs_df.duplicated([\"name\"])]"
   ]
  },
  {
   "cell_type": "markdown",
   "metadata": {},
   "source": [
    "# Now shuffle them all up"
   ]
  },
  {
   "cell_type": "code",
   "execution_count": null,
   "metadata": {},
   "outputs": [],
   "source": [
    "number_of_songs = sp.playlist_items(driving, limit=1)[\"total\"]\n",
    "number_of_songs"
   ]
  },
  {
   "cell_type": "code",
   "execution_count": 33,
   "metadata": {},
   "outputs": [],
   "source": [
    "playlist_song_order = list(range(number_of_songs))"
   ]
  },
  {
   "cell_type": "code",
   "execution_count": null,
   "metadata": {},
   "outputs": [],
   "source": [
    "random.shuffle(playlist_song_order)\n",
    "playlist_song_order"
   ]
  },
  {
   "cell_type": "code",
   "execution_count": null,
   "metadata": {},
   "outputs": [],
   "source": [
    "with tqdm(total=number_of_songs) as t:\n",
    "    while len(playlist_song_order) > 0:\n",
    "        song_to_move = playlist_song_order.pop()\n",
    "\n",
    "        for i, value in enumerate(playlist_song_order):\n",
    "            if value < song_to_move:\n",
    "                playlist_song_order[i] += 1\n",
    "\n",
    "        sp.playlist_reorder_items(driving, song_to_move, 0)\n",
    "        t.update()"
   ]
  }
 ],
 "metadata": {
  "kernelspec": {
   "display_name": ".venv",
   "language": "python",
   "name": "python3"
  },
  "language_info": {
   "codemirror_mode": {
    "name": "ipython",
    "version": 3
   },
   "file_extension": ".py",
   "mimetype": "text/x-python",
   "name": "python",
   "nbconvert_exporter": "python",
   "pygments_lexer": "ipython3",
   "version": "3.12.6"
  },
  "orig_nbformat": 4
 },
 "nbformat": 4,
 "nbformat_minor": 2
}
